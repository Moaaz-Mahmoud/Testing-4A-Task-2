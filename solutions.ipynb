{
 "cells": [
  {
   "attachments": {},
   "cell_type": "markdown",
   "metadata": {},
   "source": [
    "### Set 1"
   ]
  },
  {
   "attachments": {},
   "cell_type": "markdown",
   "metadata": {},
   "source": [
    "*Q1: What does \"ping\" do?* \n",
    "> Checks whether a destination IP address is reachable and can accept requests."
   ]
  },
  {
   "attachments": {},
   "cell_type": "markdown",
   "metadata": {},
   "source": [
    "*Q2 How to get the IP from the URL?*\n",
    "> Assuming a Linux environment,\n",
    "> 1. Open the terminal\n",
    "> 2. Type `dig`, followed by the URL. e.g. `dig google.com`"
   ]
  },
  {
   "attachments": {},
   "cell_type": "markdown",
   "metadata": {},
   "source": [
    "*Q3 What is the purpose of listen?*\n",
    "> Makes the server wait for client connection requests. `listen()` is nonblocking."
   ]
  },
  {
   "attachments": {},
   "cell_type": "markdown",
   "metadata": {},
   "source": [
    "*Q4 Bind does what?*\n",
    "> Assigns an IP address and a port number to a socket instance."
   ]
  },
  {
   "attachments": {},
   "cell_type": "markdown",
   "metadata": {},
   "source": [
    "*Q5 Draw the socket connection of a client-server?*\n",
    "> ![_](/44955906-363dae80-aef6-11e8-9795-161a90f30b1e.png)"
   ]
  },
  {
   "attachments": {},
   "cell_type": "markdown",
   "metadata": {},
   "source": [
    "### Set 2"
   ]
  },
  {
   "attachments": {},
   "cell_type": "markdown",
   "metadata": {},
   "source": [
    "*Q6 How to listen to more than a client?*\n",
    "> - Set the maximum number of connections in the argument for listen.\n",
    ">> e.g. `server.listen(20)`\n",
    "> - Allocate a thread for every client."
   ]
  },
  {
   "attachments": {},
   "cell_type": "markdown",
   "metadata": {},
   "source": [
    "*Q7 How to send more than a 1024 bytes?*\n",
    "> By breaking the data down into several packets.\n",
    "> "
   ]
  },
  {
   "attachments": {},
   "cell_type": "markdown",
   "metadata": {},
   "source": [
    "*Q8 Use another network algorithm ? (TCP, UDP) use both and check reliability*\n",
    "> They both give similar behavior. No packet loss took place.\n",
    "> "
   ]
  },
  {
   "attachments": {},
   "cell_type": "markdown",
   "metadata": {},
   "source": [
    "### Coding Tasks"
   ]
  },
  {
   "attachments": {},
   "cell_type": "markdown",
   "metadata": {},
   "source": [
    "*Q9 Implement a program that sends lower case letters from client and gets upper case letters from server. Assume both are on the same device.*\n",
    "> Can be found in **server_capitalizer.py**\n",
    "> \n",
    "> \n",
    "> \n",
    "> \n",
    "> "
   ]
  },
  {
   "attachments": {},
   "cell_type": "markdown",
   "metadata": {},
   "source": [
    "*Q10 What would change in case a connection that is not on the same device?*\n",
    "> We would need to look up the public IP address.\n",
    "> \n",
    "> \n",
    "> \n",
    "> \n",
    "> "
   ]
  }
 ],
 "metadata": {
  "kernelspec": {
   "display_name": "Python 3.9.15 ('general')",
   "language": "python",
   "name": "python3"
  },
  "language_info": {
   "codemirror_mode": {
    "name": "ipython",
    "version": 3
   },
   "file_extension": ".py",
   "mimetype": "text/x-python",
   "name": "python",
   "nbconvert_exporter": "python",
   "pygments_lexer": "ipython3",
   "version": "3.9.15 (main, Nov  4 2022, 16:13:54) \n[GCC 11.2.0]"
  },
  "orig_nbformat": 4,
  "vscode": {
   "interpreter": {
    "hash": "5914191f6f9ec9f8eb978e82f1d4e8d63e6043eb8049c5c6c8a29340ac40615b"
   }
  }
 },
 "nbformat": 4,
 "nbformat_minor": 2
}
